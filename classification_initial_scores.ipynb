{
 "cells": [
  {
   "cell_type": "markdown",
   "metadata": {
    "collapsed": true
   },
   "source": [
    "# Initiail Data Set Accurcy Scores Using Famous Classification Machine Learning Models "
   ]
  },
  {
   "cell_type": "markdown",
   "metadata": {},
   "source": [
    "This notebook will consist of a main function diagnose(), which takes a pandas DataFrame with only numberic values, and returns a DataFrame showing scores of trained models."
   ]
  },
  {
   "cell_type": "code",
   "execution_count": 80,
   "metadata": {},
   "outputs": [],
   "source": [
    "import pandas as pd\n",
    "import numpy as np\n",
    "from sklearn.model_selection import train_test_split\n",
    "from sklearn.preprocessing import StandardScaler"
   ]
  },
  {
   "cell_type": "markdown",
   "metadata": {},
   "source": [
    "This diagnosis will consist of these models:\n",
    "* K Nearest Neighbour\n",
    "* Logestic Regression\n",
    "* Gaussian Naive Bays Classifier\n",
    "* Decision Trees\n",
    "* Boosted Trees\n",
    "* Random Forest\n",
    "* Support Vector Machine (rbf, linear, poly)"
   ]
  },
  {
   "cell_type": "code",
   "execution_count": 120,
   "metadata": {},
   "outputs": [],
   "source": [
    "def diagnose(data,labels):\n",
    "    X = StandardScaler().fit_transform(data.astype(float))\n",
    "    y = np.array(labels)\n",
    "    y = np.ravel(y)\n",
    "    \n",
    "    algorithms=['knn','logestic','naive','decision','boosted','random','svm_rbf','svm_linear','svm_poly']\n",
    "    result = pd.DataFrame(index=algorithms)\n",
    "    scores=[0,0,0,0,0,0,0,0,0]\n",
    "    scores[0] = knn(X,y)\n",
    "    scores[1] = logestic(X,y)\n",
    "    scores[2] = naive(X,y)\n",
    "    scores[3] = decision(X,y)\n",
    "    scores[4] = boosted(X,y)\n",
    "    scores[5] = randomF(X,y)\n",
    "    scores[6] = svm_rbf(X,y)\n",
    "    scores[7] = svm_linear(X,y)\n",
    "    scores[8] = svm_poly(X,y)\n",
    "    \n",
    "    result['scores']=scores\n",
    "    \n",
    "    return result.sort_values(by=['scores'],ascending=False)"
   ]
  },
  {
   "cell_type": "code",
   "execution_count": 82,
   "metadata": {},
   "outputs": [],
   "source": [
    "def knn(X,y):\n",
    "    from sklearn.neighbors import KNeighborsClassifier\n",
    "    \n",
    "    X_train, X_test, y_train, y_test = train_test_split(X, y, random_state=0)\n",
    "    max_score=0\n",
    "    for i in range(1,50):\n",
    "        knn = KNeighborsClassifier(n_neighbors = i)\n",
    "        knn.fit(X_train,y_train)\n",
    "        yhat = knn.predict(X_test)\n",
    "        s = knn.score(X_test,y_test)\n",
    "        if (s > max_score):\n",
    "            max_score = s\n",
    "    return max_score"
   ]
  },
  {
   "cell_type": "code",
   "execution_count": 94,
   "metadata": {},
   "outputs": [],
   "source": [
    "def logestic(X,y):\n",
    "    from sklearn.linear_model import LogisticRegression\n",
    "    \n",
    "    X_train, X_test, y_train, y_test = train_test_split(X, y, random_state=0)\n",
    "    max_score=0\n",
    "    for i in range(1,10):\n",
    "        lr = LogisticRegression(C=i).fit(X_train,y_train)\n",
    "        lr.fit(X_train,y_train)\n",
    "        s = lr.score(X_test,y_test)\n",
    "        if (s > max_score):\n",
    "            max_score = s\n",
    "    return max_score"
   ]
  },
  {
   "cell_type": "code",
   "execution_count": 96,
   "metadata": {},
   "outputs": [],
   "source": [
    "def naive(X,y):\n",
    "    from sklearn.naive_bayes import GaussianNB\n",
    "    \n",
    "    X_train, X_test, y_train, y_test = train_test_split(X, y, random_state=0)\n",
    "    nb = GaussianNB().fit(X_train,y_train)\n",
    "    return nb.score(X_test,y_test)"
   ]
  },
  {
   "cell_type": "code",
   "execution_count": 105,
   "metadata": {},
   "outputs": [],
   "source": [
    "def decision(X,y):\n",
    "    from sklearn.tree import DecisionTreeClassifier\n",
    "    \n",
    "    X_train, X_test, y_train, y_test = train_test_split(X, y, random_state=0)\n",
    "    \n",
    "    n = X.shape[1]\n",
    "    max_score=0\n",
    "    for i in range(1,n):\n",
    "        dt = DecisionTreeClassifier(max_depth = n).fit(X_train,y_train)\n",
    "        s = dt.score(X_test,y_test)\n",
    "        if (s > max_score):\n",
    "            max_score = s\n",
    "    return max_score"
   ]
  },
  {
   "cell_type": "code",
   "execution_count": 112,
   "metadata": {},
   "outputs": [],
   "source": [
    "def boosted(X,y):\n",
    "    from sklearn.ensemble import GradientBoostingClassifier\n",
    "    \n",
    "    X_train, X_test, y_train, y_test = train_test_split(X, y, random_state=0)\n",
    "    gb = GradientBoostingClassifier().fit(X_train,y_train)\n",
    "    return gb.score(X_test,y_test)"
   ]
  },
  {
   "cell_type": "code",
   "execution_count": 106,
   "metadata": {},
   "outputs": [],
   "source": [
    "def randomF(X,y):\n",
    "    from sklearn.ensemble import RandomForestClassifier\n",
    "    \n",
    "    X_train, X_test, y_train, y_test = train_test_split(X, y, random_state=0)\n",
    "    n = X.shape[1]\n",
    "    max_score=0\n",
    "    for i in range(1,n):\n",
    "        rf = RandomForestClassifier(max_depth = n).fit(X_train,y_train)\n",
    "        s = rf.score(X_test,y_test)\n",
    "        if (s > max_score):\n",
    "            max_score = s\n",
    "    return max_score"
   ]
  },
  {
   "cell_type": "code",
   "execution_count": 107,
   "metadata": {},
   "outputs": [],
   "source": [
    "def svm_rbf(X,y):\n",
    "    from sklearn.svm import SVC\n",
    "    \n",
    "    X_train, X_test, y_train, y_test = train_test_split(X, y, random_state=0)    \n",
    "\n",
    "    n = X.shape[1]\n",
    "    max_score=0\n",
    "    for i in range(1,n):\n",
    "        svm = SVC(kernel='rbf',C=i).fit(X_train,y_train)\n",
    "        yhat = svm.predict(X_test)\n",
    "        s = svm.score(X_test,y_test)\n",
    "        if (s > max_score):\n",
    "            max_score = s\n",
    "    return max_score"
   ]
  },
  {
   "cell_type": "code",
   "execution_count": 108,
   "metadata": {},
   "outputs": [],
   "source": [
    "def svm_linear(X,y):\n",
    "    from sklearn.svm import SVC\n",
    "    \n",
    "    X_train, X_test, y_train, y_test = train_test_split(X, y, random_state=0)    \n",
    "    \n",
    "    n = X.shape[1]\n",
    "    max_score=0\n",
    "    for i in range(1,n):\n",
    "        svm = SVC(kernel='linear',C=i).fit(X_train,y_train)\n",
    "        yhat = svm.predict(X_test)\n",
    "        s = svm.score(X_test,y_test)\n",
    "        if (s > max_score):\n",
    "            max_score = s\n",
    "    return max_score"
   ]
  },
  {
   "cell_type": "code",
   "execution_count": 109,
   "metadata": {},
   "outputs": [],
   "source": [
    "def svm_poly(X,y):\n",
    "    from sklearn.svm import SVC\n",
    "    \n",
    "    X_train, X_test, y_train, y_test = train_test_split(X, y, random_state=0)    \n",
    "    \n",
    "    n = X.shape[1]\n",
    "    max_score=0\n",
    "    for i in range(1,n):\n",
    "        svm = SVC(kernel='poly',C=i).fit(X_train,y_train)\n",
    "        yhat = svm.predict(X_test)\n",
    "        s = svm.score(X_test,y_test)\n",
    "        if (s > max_score):\n",
    "            max_score = s\n",
    "    return max_score"
   ]
  },
  {
   "cell_type": "markdown",
   "metadata": {},
   "source": [
    "## Test using loans data set:"
   ]
  },
  {
   "cell_type": "code",
   "execution_count": 91,
   "metadata": {},
   "outputs": [
    {
     "name": "stdout",
     "output_type": "stream",
     "text": [
      "--2019-05-30 20:55:52--  https://s3-api.us-geo.objectstorage.softlayer.net/cf-courses-data/CognitiveClass/ML0101ENv3/labs/loan_train.csv\n",
      "Resolving s3-api.us-geo.objectstorage.softlayer.net (s3-api.us-geo.objectstorage.softlayer.net)... 67.228.254.193\n",
      "Connecting to s3-api.us-geo.objectstorage.softlayer.net (s3-api.us-geo.objectstorage.softlayer.net)|67.228.254.193|:443... connected.\n",
      "HTTP request sent, awaiting response... 200 OK\n",
      "Length: 23101 (23K) [text/csv]\n",
      "Saving to: ‘loan_train.csv’\n",
      "\n",
      "100%[======================================>] 23,101      --.-K/s   in 0.07s   \n",
      "\n",
      "2019-05-30 20:55:52 (303 KB/s) - ‘loan_train.csv’ saved [23101/23101]\n",
      "\n"
     ]
    }
   ],
   "source": [
    "!wget -O loan_train.csv https://s3-api.us-geo.objectstorage.softlayer.net/cf-courses-data/CognitiveClass/ML0101ENv3/labs/loan_train.csv"
   ]
  },
  {
   "cell_type": "markdown",
   "metadata": {},
   "source": [
    "### Cleaning:"
   ]
  },
  {
   "cell_type": "code",
   "execution_count": 92,
   "metadata": {},
   "outputs": [],
   "source": [
    "df = pd.read_csv('loan_train.csv')\n",
    "# replace gender with 0,1 values\n",
    "df['Gender'].replace('male',0,inplace=True)\n",
    "df['Gender'].replace('female',1,inplace=True)\n",
    "\n",
    "# create weekend boolean value indicating if it was weeked when person got the loan using effective date\n",
    "# Mon = 0 , Sun = 6\n",
    "df['effective_date'] = pd.to_datetime(df['effective_date'])\n",
    "df['day_of_week'] =df['effective_date'].dt.dayofweek \n",
    "df['weekend'] = df['day_of_week'].apply(lambda x: 1 if (x>3) else 0)\n",
    "\n",
    "#create a dummy variable for each educational level\n",
    "df = pd.concat([df,pd.get_dummies(df['education'])],axis=1)\n",
    "\n",
    "# replace status with 1 or 0 showing the status\n",
    "df['loan_status'].replace('PAIDOFF',1,inplace=True)\n",
    "df['loan_status'].replace('COLLECTION',0,inplace=True)\n",
    "\n",
    "loans = df[['Principal','terms','age','Gender','weekend', 'Bechalor',  'High School or Below'  ,'Master or Above'  ,'college']]"
   ]
  },
  {
   "cell_type": "code",
   "execution_count": 121,
   "metadata": {},
   "outputs": [
    {
     "data": {
      "text/html": [
       "<div>\n",
       "<style scoped>\n",
       "    .dataframe tbody tr th:only-of-type {\n",
       "        vertical-align: middle;\n",
       "    }\n",
       "\n",
       "    .dataframe tbody tr th {\n",
       "        vertical-align: top;\n",
       "    }\n",
       "\n",
       "    .dataframe thead th {\n",
       "        text-align: right;\n",
       "    }\n",
       "</style>\n",
       "<table border=\"1\" class=\"dataframe\">\n",
       "  <thead>\n",
       "    <tr style=\"text-align: right;\">\n",
       "      <th></th>\n",
       "      <th>scores</th>\n",
       "    </tr>\n",
       "  </thead>\n",
       "  <tbody>\n",
       "    <tr>\n",
       "      <th>knn</th>\n",
       "      <td>0.862069</td>\n",
       "    </tr>\n",
       "    <tr>\n",
       "      <th>svm_linear</th>\n",
       "      <td>0.839080</td>\n",
       "    </tr>\n",
       "    <tr>\n",
       "      <th>logestic</th>\n",
       "      <td>0.816092</td>\n",
       "    </tr>\n",
       "    <tr>\n",
       "      <th>svm_poly</th>\n",
       "      <td>0.816092</td>\n",
       "    </tr>\n",
       "    <tr>\n",
       "      <th>random</th>\n",
       "      <td>0.758621</td>\n",
       "    </tr>\n",
       "    <tr>\n",
       "      <th>decision</th>\n",
       "      <td>0.724138</td>\n",
       "    </tr>\n",
       "    <tr>\n",
       "      <th>svm_rbf</th>\n",
       "      <td>0.724138</td>\n",
       "    </tr>\n",
       "    <tr>\n",
       "      <th>boosted</th>\n",
       "      <td>0.701149</td>\n",
       "    </tr>\n",
       "    <tr>\n",
       "      <th>naive</th>\n",
       "      <td>0.402299</td>\n",
       "    </tr>\n",
       "  </tbody>\n",
       "</table>\n",
       "</div>"
      ],
      "text/plain": [
       "              scores\n",
       "knn         0.862069\n",
       "svm_linear  0.839080\n",
       "logestic    0.816092\n",
       "svm_poly    0.816092\n",
       "random      0.758621\n",
       "decision    0.724138\n",
       "svm_rbf     0.724138\n",
       "boosted     0.701149\n",
       "naive       0.402299"
      ]
     },
     "execution_count": 121,
     "metadata": {},
     "output_type": "execute_result"
    }
   ],
   "source": [
    "diagnose(loans,df[['loan_status']])"
   ]
  },
  {
   "cell_type": "code",
   "execution_count": null,
   "metadata": {},
   "outputs": [],
   "source": []
  }
 ],
 "metadata": {
  "kernelspec": {
   "display_name": "Python 3.5",
   "language": "python",
   "name": "python3"
  },
  "language_info": {
   "codemirror_mode": {
    "name": "ipython",
    "version": 3
   },
   "file_extension": ".py",
   "mimetype": "text/x-python",
   "name": "python",
   "nbconvert_exporter": "python",
   "pygments_lexer": "ipython3",
   "version": "3.5.5"
  }
 },
 "nbformat": 4,
 "nbformat_minor": 1
}
